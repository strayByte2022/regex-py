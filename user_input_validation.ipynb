{
  "nbformat": 4,
  "nbformat_minor": 0,
  "metadata": {
    "colab": {
      "provenance": [],
      "authorship_tag": "ABX9TyMiXOoFOGKNGZkIxOWrWJdO",
      "include_colab_link": true
    },
    "kernelspec": {
      "name": "python3",
      "display_name": "Python 3"
    },
    "language_info": {
      "name": "python"
    }
  },
  "cells": [
    {
      "cell_type": "markdown",
      "metadata": {
        "id": "view-in-github",
        "colab_type": "text"
      },
      "source": [
        "<a href=\"https://colab.research.google.com/github/strayByte2022/regex-py/blob/main/user_input_validation.ipynb\" target=\"_parent\"><img src=\"https://colab.research.google.com/assets/colab-badge.svg\" alt=\"Open In Colab\"/></a>"
      ]
    },
    {
      "cell_type": "code",
      "execution_count": 13,
      "metadata": {
        "id": "lyAX3FCHxRpc"
      },
      "outputs": [],
      "source": [
        "input = \"12:45\""
      ]
    },
    {
      "cell_type": "code",
      "source": [
        "import re"
      ],
      "metadata": {
        "id": "akeI6Ecaxkx3"
      },
      "execution_count": 11,
      "outputs": []
    },
    {
      "cell_type": "code",
      "source": [
        "print(re.fullmatch('[0-9]{2}:[0-9]{2}',input)) #match 2number:2number"
      ],
      "metadata": {
        "colab": {
          "base_uri": "https://localhost:8080/"
        },
        "id": "2S0DqNL9xm0y",
        "outputId": "862d2b16-9bb6-45f9-e859-95ee696029cb"
      },
      "execution_count": 15,
      "outputs": [
        {
          "output_type": "stream",
          "name": "stdout",
          "text": [
            "<re.Match object; span=(0, 5), match='12:45'>\n"
          ]
        }
      ]
    },
    {
      "cell_type": "code",
      "source": [
        "regex = '([0-1][0-9]|2[0-3]):([0-5][0-9])'"
      ],
      "metadata": {
        "id": "nb4t_zc70qK6"
      },
      "execution_count": 18,
      "outputs": []
    },
    {
      "cell_type": "code",
      "source": [
        "if re.fullmatch(regex,input):\n",
        "  print(\"valid\")\n",
        "else:\n",
        "  print(\"invalid\")"
      ],
      "metadata": {
        "colab": {
          "base_uri": "https://localhost:8080/"
        },
        "id": "xyuE21AI1Ca_",
        "outputId": "69fd0689-bdce-4e6b-ec96-2514773d9066"
      },
      "execution_count": 19,
      "outputs": [
        {
          "output_type": "stream",
          "name": "stdout",
          "text": [
            "valid\n"
          ]
        }
      ]
    },
    {
      "cell_type": "code",
      "source": [
        "email = [\"test@mail.com\",\"r_duke@mail.com\",\"s.rog120@mail.com\"]"
      ],
      "metadata": {
        "id": "QSzUxd9t1aIo"
      },
      "execution_count": 35,
      "outputs": []
    },
    {
      "cell_type": "code",
      "source": [
        "regex = '^(\\w|\\.|\\_|\\-)+[@]\\w+[.]\\w(2,3)$'"
      ],
      "metadata": {
        "id": "X9zQ2iMv1grz"
      },
      "execution_count": 36,
      "outputs": []
    },
    {
      "cell_type": "code",
      "source": [
        "[re.fullmatch(regex,x) for x in email]"
      ],
      "metadata": {
        "id": "wKY6-X5I2Gz_"
      },
      "execution_count": null,
      "outputs": []
    }
  ]
}