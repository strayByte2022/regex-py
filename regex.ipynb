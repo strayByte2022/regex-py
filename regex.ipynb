{
  "nbformat": 4,
  "nbformat_minor": 0,
  "metadata": {
    "colab": {
      "provenance": [],
      "authorship_tag": "ABX9TyMgwC+JaoDtr+jrth8FMbPR",
      "include_colab_link": true
    },
    "kernelspec": {
      "name": "python3",
      "display_name": "Python 3"
    },
    "language_info": {
      "name": "python"
    }
  },
  "cells": [
    {
      "cell_type": "markdown",
      "metadata": {
        "id": "view-in-github",
        "colab_type": "text"
      },
      "source": [
        "<a href=\"https://colab.research.google.com/github/strayByte2022/regex-py/blob/main/regex.ipynb\" target=\"_parent\"><img src=\"https://colab.research.google.com/assets/colab-badge.svg\" alt=\"Open In Colab\"/></a>"
      ]
    },
    {
      "cell_type": "markdown",
      "source": [
        "This is the first task of this project to learn regular expressions in python\n"
      ],
      "metadata": {
        "id": "SOnibFHrOXik"
      }
    },
    {
      "cell_type": "code",
      "execution_count": null,
      "metadata": {
        "id": "8RH3-xZzOPvi"
      },
      "outputs": [],
      "source": [
        "import re"
      ]
    },
    {
      "cell_type": "markdown",
      "source": [],
      "metadata": {
        "id": "f_s4VQ9bOzNh"
      }
    },
    {
      "cell_type": "markdown",
      "source": [
        "# METACHARACTERS\n",
        "^: used to search a pattern starts with something.\n",
        "\n",
        "$ : used to search a pattern ends with something. for example \"cats&\" = ends with \"cats\"\n"
      ],
      "metadata": {
        "id": "nOyt8PGUOzUY"
      }
    },
    {
      "cell_type": "code",
      "source": [
        "st = \"cats are adorable cats\""
      ],
      "metadata": {
        "id": "_BLja6HuPIK8"
      },
      "execution_count": null,
      "outputs": []
    },
    {
      "cell_type": "code",
      "source": [
        "pattern = \"^cats\""
      ],
      "metadata": {
        "id": "kuQt_JELPYq5"
      },
      "execution_count": null,
      "outputs": []
    },
    {
      "cell_type": "code",
      "source": [
        "re.search(pattern,st)"
      ],
      "metadata": {
        "colab": {
          "base_uri": "https://localhost:8080/"
        },
        "id": "LpDu2VX0PcWQ",
        "outputId": "dae9dabc-0202-4353-f236-9fdb9ac98ddd"
      },
      "execution_count": null,
      "outputs": [
        {
          "output_type": "execute_result",
          "data": {
            "text/plain": [
              "<re.Match object; span=(0, 4), match='cats'>"
            ]
          },
          "metadata": {},
          "execution_count": 4
        }
      ]
    },
    {
      "cell_type": "code",
      "source": [
        "pattern2 = \"cats$\""
      ],
      "metadata": {
        "id": "C1DmA-eWRMWc"
      },
      "execution_count": null,
      "outputs": []
    },
    {
      "cell_type": "code",
      "source": [
        "re.search(pattern2,st)"
      ],
      "metadata": {
        "colab": {
          "base_uri": "https://localhost:8080/"
        },
        "id": "8d4Xc5aIRR5Z",
        "outputId": "77c52be9-c0e4-46c0-b3f5-b69adc55f453"
      },
      "execution_count": null,
      "outputs": [
        {
          "output_type": "execute_result",
          "data": {
            "text/plain": [
              "<re.Match object; span=(18, 22), match='cats'>"
            ]
          },
          "metadata": {},
          "execution_count": 15
        }
      ]
    },
    {
      "cell_type": "markdown",
      "source": [
        "# Quantifiers\n",
        "?: zero or 1 occurences\n",
        "\n",
        "+: >=1 occurrences\n",
        "\n",
        "*: >=0 occurrences"
      ],
      "metadata": {
        "id": "gX_zOD48UvPW"
      }
    },
    {
      "cell_type": "code",
      "source": [
        "st2 = \"color\""
      ],
      "metadata": {
        "id": "YqhTisifVE5J"
      },
      "execution_count": null,
      "outputs": []
    },
    {
      "cell_type": "code",
      "source": [
        "st3 = \"colouuuur\""
      ],
      "metadata": {
        "id": "vZDlYfsfVIfh"
      },
      "execution_count": null,
      "outputs": []
    },
    {
      "cell_type": "code",
      "source": [
        "re.search(\"colou*r\",st3)"
      ],
      "metadata": {
        "colab": {
          "base_uri": "https://localhost:8080/"
        },
        "id": "M1ZAIlvHVKma",
        "outputId": "9f24d442-8b2b-4f63-dc49-1b8e9a911784"
      },
      "execution_count": null,
      "outputs": [
        {
          "output_type": "execute_result",
          "data": {
            "text/plain": [
              "<re.Match object; span=(0, 9), match='colouuuur'>"
            ]
          },
          "metadata": {},
          "execution_count": 29
        }
      ]
    },
    {
      "cell_type": "markdown",
      "source": [
        "# Metacharacters\n",
        ": indicates a range\n",
        "\n",
        ". : find all characters except new line"
      ],
      "metadata": {
        "id": "wo3p3MxOXMwo"
      }
    },
    {
      "cell_type": "code",
      "source": [
        "st4 = \"abcsdag7\""
      ],
      "metadata": {
        "id": "KSHOpBMlXx_C"
      },
      "execution_count": null,
      "outputs": []
    },
    {
      "cell_type": "code",
      "source": [
        "re.search(\"[abc]\",st4)"
      ],
      "metadata": {
        "colab": {
          "base_uri": "https://localhost:8080/"
        },
        "id": "7jJaKZD-X-El",
        "outputId": "24d60160-aa9f-44a4-810b-7d9c6d5a1454"
      },
      "execution_count": null,
      "outputs": [
        {
          "output_type": "execute_result",
          "data": {
            "text/plain": [
              "<re.Match object; span=(0, 1), match='a'>"
            ]
          },
          "metadata": {},
          "execution_count": 39
        }
      ]
    },
    {
      "cell_type": "code",
      "source": [
        "re.search(\"[0-][0-2]\",\"4411\")"
      ],
      "metadata": {
        "colab": {
          "base_uri": "https://localhost:8080/"
        },
        "id": "8F03bH-gX_eu",
        "outputId": "db7d1ba0-3fc1-4c3b-8dac-cc8bc4610a9b"
      },
      "execution_count": null,
      "outputs": [
        {
          "output_type": "execute_result",
          "data": {
            "text/plain": [
              "<re.Match object; span=(1, 3), match='41'>"
            ]
          },
          "metadata": {},
          "execution_count": 46
        }
      ]
    },
    {
      "cell_type": "markdown",
      "source": [
        "# SETS\n",
        "[^a-n]: search for pattern aparts from the characters that matches the range a-n\n",
        "\n",
        "[abc]: search for pattern matching a | b | c\n",
        "\n",
        "[a-z][0-9][a-p]: search for 3 consecutive characters where\n",
        "- the first is a character from a-z,\n",
        "- the second is a number match from 0-9,\n",
        "- the third character from a-p"
      ],
      "metadata": {
        "id": "0CKD10uaZvZF"
      }
    },
    {
      "cell_type": "code",
      "source": [
        "re.findall(\"[a-z0-9]$\",st4) # find all means find all occurences, not the first one only!"
      ],
      "metadata": {
        "colab": {
          "base_uri": "https://localhost:8080/"
        },
        "id": "iyu5kt4Mawzb",
        "outputId": "1f7bc532-8eee-45a2-faee-0ffd2a85244b"
      },
      "execution_count": null,
      "outputs": [
        {
          "output_type": "execute_result",
          "data": {
            "text/plain": [
              "['7']"
            ]
          },
          "metadata": {},
          "execution_count": 51
        }
      ]
    },
    {
      "cell_type": "markdown",
      "source": [
        "# SPECICAL SEQUENCES\n",
        "\\d : [0-9]\n",
        "\n",
        "\\w : [0-9a-Z_] with uppercase and lowercase!"
      ],
      "metadata": {
        "id": "Ax5Bdv6sbo2W"
      }
    },
    {
      "cell_type": "code",
      "source": [
        "re.findall('\\d',\"the pass is 12312\")"
      ],
      "metadata": {
        "colab": {
          "base_uri": "https://localhost:8080/"
        },
        "id": "z1RrVxxzcOu4",
        "outputId": "d4b71127-142c-4eb2-c31a-b911dafdcd5a"
      },
      "execution_count": null,
      "outputs": [
        {
          "output_type": "execute_result",
          "data": {
            "text/plain": [
              "['1', '2', '3', '1', '2']"
            ]
          },
          "metadata": {},
          "execution_count": 53
        }
      ]
    },
    {
      "cell_type": "code",
      "source": [
        "re.findall(\"\\w\",\"(*&)()*()* Af1&*_\")"
      ],
      "metadata": {
        "colab": {
          "base_uri": "https://localhost:8080/"
        },
        "id": "ZeDlgY03cb_9",
        "outputId": "0d90a83c-4d89-439f-96c6-2f4f8aa4d6a6"
      },
      "execution_count": null,
      "outputs": [
        {
          "output_type": "execute_result",
          "data": {
            "text/plain": [
              "['A', 'f', '1', '_']"
            ]
          },
          "metadata": {},
          "execution_count": 54
        }
      ]
    }
  ]
}