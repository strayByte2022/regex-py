{
  "nbformat": 4,
  "nbformat_minor": 0,
  "metadata": {
    "colab": {
      "provenance": [],
      "authorship_tag": "ABX9TyNtUxUz1ULBmDGT4HRK1Kw4",
      "include_colab_link": true
    },
    "kernelspec": {
      "name": "python3",
      "display_name": "Python 3"
    },
    "language_info": {
      "name": "python"
    }
  },
  "cells": [
    {
      "cell_type": "markdown",
      "metadata": {
        "id": "view-in-github",
        "colab_type": "text"
      },
      "source": [
        "<a href=\"https://colab.research.google.com/github/strayByte2022/regex-py/blob/main/password_validator.ipynb\" target=\"_parent\"><img src=\"https://colab.research.google.com/assets/colab-badge.svg\" alt=\"Open In Colab\"/></a>"
      ]
    },
    {
      "cell_type": "code",
      "execution_count": 1,
      "metadata": {
        "id": "EbkUkikXeFcS"
      },
      "outputs": [],
      "source": [
        "st = \"\""
      ]
    },
    {
      "cell_type": "code",
      "source": [
        "regex = '[A-Za-z0-9@#$%^&+=]{8,}'\n",
        "# string with at least 8 characters\n",
        "# uppercase & lowercase letter\n",
        "# number: 0-9\n",
        "# any of the special character\n"
      ],
      "metadata": {
        "id": "DE3L1SzVkX_H"
      },
      "execution_count": 10,
      "outputs": []
    },
    {
      "cell_type": "code",
      "source": [
        "import re"
      ],
      "metadata": {
        "id": "qeQvAh0dlJSf"
      },
      "execution_count": 5,
      "outputs": []
    },
    {
      "cell_type": "code",
      "source": [
        "password = input(\"Enter your password: \")"
      ],
      "metadata": {
        "colab": {
          "base_uri": "https://localhost:8080/"
        },
        "id": "brbjAV6klLQQ",
        "outputId": "c10076c4-78b9-423e-e860-8781fdd71f12"
      },
      "execution_count": 6,
      "outputs": [
        {
          "name": "stdout",
          "output_type": "stream",
          "text": [
            "Enter your password: passwordhey1234&5\n"
          ]
        }
      ]
    },
    {
      "cell_type": "code",
      "source": [
        "if re.fullmatch(regex,password):\n",
        "  print(\"Valid password\")\n",
        "else:\n",
        "  print(\"Invalid password\")"
      ],
      "metadata": {
        "colab": {
          "base_uri": "https://localhost:8080/"
        },
        "id": "EWVYG4dKlbOc",
        "outputId": "f23fcfd7-86fe-4993-e62d-8272dd799419"
      },
      "execution_count": 13,
      "outputs": [
        {
          "output_type": "stream",
          "name": "stdout",
          "text": [
            "Valid password\n"
          ]
        }
      ]
    },
    {
      "cell_type": "code",
      "source": [
        "regex2 = '(?=.*[A-Z])(?=.*[a-z])(?=.*[0-9]{6,})'\n"
      ],
      "metadata": {
        "id": "bTeQb_FjlktM"
      },
      "execution_count": 14,
      "outputs": []
    },
    {
      "cell_type": "code",
      "source": [
        "if re.fullmatch(regex2,password):\n",
        "  print(\"Valid password\")\n",
        "else:\n",
        "  print(\"Invalid password\")"
      ],
      "metadata": {
        "colab": {
          "base_uri": "https://localhost:8080/"
        },
        "id": "fie7psPLqQz_",
        "outputId": "7b1a0db6-4d3a-4638-f3ec-bd78606b9565"
      },
      "execution_count": 15,
      "outputs": [
        {
          "output_type": "stream",
          "name": "stdout",
          "text": [
            "Invalid password\n"
          ]
        }
      ]
    },
    {
      "cell_type": "markdown",
      "source": [
        "(?=.*[A-Z]):\n",
        "\n",
        ".*: Matches any character (except newline) zero or more times.\n",
        "\n",
        "[A-Z]: Matches any uppercase letter.\n",
        "\n",
        "This assertion ensures there's at least one uppercase letter anywhere in the string.\n",
        "\n",
        "(?=.*[a-z]):\n",
        "\n",
        "Similar to the first assertion, but checks for at least one lowercase letter.\n",
        "\n",
        "(?=.*[0-9]{6,}):\n",
        "\n",
        "[0-9]{6,}: Matches a sequence of digits with a minimum length of 6.\n",
        "\n",
        "This assertion ensures there are at least six digits anywhere in the string.\n",
        "\n",
        "# Understanding the Regex:\n",
        "\n",
        "It doesn't consume characters; it only asserts their presence.\n",
        "It doesn't specify character order; the letters and digits can be anywhere in the string.\n",
        "It's often used for password validation to ensure a certain level of complexity."
      ],
      "metadata": {
        "id": "QzvLzq_NqZpJ"
      }
    },
    {
      "cell_type": "code",
      "source": [],
      "metadata": {
        "id": "fMPTuicJqjOr"
      },
      "execution_count": null,
      "outputs": []
    }
  ]
}